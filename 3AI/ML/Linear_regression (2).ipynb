{
  "nbformat": 4,
  "nbformat_minor": 0,
  "metadata": {
    "colab": {
      "provenance": []
    },
    "kernelspec": {
      "name": "python3",
      "display_name": "Python 3"
    },
    "language_info": {
      "name": "python"
    }
  },
  "cells": [
    {
      "cell_type": "markdown",
      "source": [
        "# 데이터 생성 및 시각화"
      ],
      "metadata": {
        "id": "ATqrAZHZfFBa"
      }
    },
    {
      "cell_type": "code",
      "source": [
        "import torch\n",
        "import numpy as np\n",
        "import matplotlib.pyplot as plt\n",
        "%matplotlib inline\n"
      ],
      "metadata": {
        "id": "3DxbdJvASoXc"
      },
      "execution_count": 5,
      "outputs": []
    },
    {
      "cell_type": "markdown",
      "source": [
        "# 선형 데이터 생성 함수"
      ],
      "metadata": {
        "id": "R7X_GZwAfH4v"
      }
    },
    {
      "cell_type": "code",
      "source": [
        "# 선형 데이터 생성 함수\n",
        "np.random.seed(42)\n",
        "def f(x, a, b):\n",
        "  n = train_X.size\n",
        "  vals = np.zeros((1,n)) # 결과 담을 1 x n 크기 배열 0으로 초기화\n",
        "  for i in range(0, n):\n",
        "    ax = np.multiply(a, x.item(i)) # x의 1개의 스칼라 값 꺼낸뒤 a와 곱하기.\n",
        "    val = np.add(ax, b) # ax + b 계산\n",
        "    vals[0, i] = val # 배열에 결과 저장\n",
        "  return vals\n",
        "\n",
        "\n",
        "# 정답 계수\n",
        "Wref = 0.7\n",
        "bref = -1.0\n",
        "n = 20\n",
        "noise_var = 0.001\n",
        "train_X = np.random.random((1,n))\n",
        "ref_Y = f(train_X, Wref, bref)\n",
        "train_Y = ref_Y + np.sqrt(noise_var)*np.random.randn(1,n)\n",
        "n_samples = train_X.size\n",
        "\n",
        "print('')\n",
        "print(f\" Type of Train_X is {type(train_X)}\")\n",
        "print(f\" Shape of Train_X is {train_X.shape}\")\n",
        "print(f\" Type of Train_y is {type(train_Y)}\")\n",
        "print(f\" Shape of Train_y is {train_Y.shape}\")\n",
        "\n",
        "# plot\n",
        "plt.figure(1)\n",
        "plt.plot(train_X[0, :], ref_Y[0, :], 'ro', label = 'Original data')\n",
        "plt.plot(train_X[0, :], train_Y[0, :], 'b^', label = 'Training data')\n",
        "plt.axis('equal')\n",
        "plt.legend()"
      ],
      "metadata": {
        "colab": {
          "base_uri": "https://localhost:8080/",
          "height": 540
        },
        "id": "diJkujENSs55",
        "outputId": "20aa3245-9eba-42eb-8e75-aab23e7bb272"
      },
      "execution_count": 19,
      "outputs": [
        {
          "output_type": "stream",
          "name": "stdout",
          "text": [
            "\n",
            " Type of Train_X is <class 'numpy.ndarray'>\n",
            " Shape of Train_X is (1, 20)\n",
            " Type of Train_y is <class 'numpy.ndarray'>\n",
            " Shape of Train_y is (1, 20)\n"
          ]
        },
        {
          "output_type": "execute_result",
          "data": {
            "text/plain": [
              "<matplotlib.legend.Legend at 0x7fa00e56fcd0>"
            ]
          },
          "metadata": {},
          "execution_count": 19
        },
        {
          "output_type": "display_data",
          "data": {
            "text/plain": [
              "<Figure size 640x480 with 1 Axes>"
            ],
            "image/png": "[encoded data removed]"
          },
          "metadata": {}
        }
      ]
    },
    {
      "cell_type": "markdown",
      "source": [
        "# Pytorch tensor 변환 및 모델/옵티마이저 설정"
      ],
      "metadata": {
        "id": "_3BAWw_bfKKS"
      }
    },
    {
      "cell_type": "code",
      "source": [
        "# Pytorch tensor 변환 및 모델/옵티마이저 설정\n",
        "\n",
        "# Numpy to Pytorch Tensor\n",
        "x_train = torch.tensor(train_X, dtype=torch.float32).view(-1, 1)\n",
        "y_train = torch.tensor(train_Y, dtype=torch.float32).view(-1, 1)\n",
        "\n",
        "# model 정의 (입력 1 -> 출력 1 회귀)\n",
        "model = torch.nn.Linear(in_features = 1, out_features = 1)\n",
        "\n",
        "# 손실 함수 (MSE) & 옵티마이저 (SGD)\n",
        "criterion = torch.nn.MSELoss()\n",
        "optimizer = torch.optim.SGD(model.parameters(), lr=0.01)\n",
        "\n",
        "# 학습 설정\n",
        "training_epochs = 2000\n",
        "display_step = 50"
      ],
      "metadata": {
        "id": "WPvHdTu6TIHW"
      },
      "execution_count": 20,
      "outputs": []
    },
    {
      "cell_type": "markdown",
      "source": [
        "# 학습 루프 실행"
      ],
      "metadata": {
        "id": "WgkzwLLefLYO"
      }
    },
    {
      "cell_type": "code",
      "source": [
        "# 학습 루프 실행\n",
        "\n",
        "for epoch in range(training_epochs):\n",
        "  model.train()\n",
        "\n",
        "  # 예측 및 손실 계산\n",
        "  outputs = model(x_train)\n",
        "  loss = criterion(outputs, y_train)\n",
        "\n",
        "  # 경사 초기화, 역전파, 가중치 업데이트\n",
        "  optimizer.zero_grad()\n",
        "  loss.backward()\n",
        "  optimizer.step()\n",
        "\n",
        "  # 출력\n",
        "  if epoch % display_step == 0:\n",
        "    w, b = model.parameters()\n",
        "    print(f'Epoch {epoch +1:04d}, Loss: {loss.item():.6f}')\n",
        "    print(f' W = {w.item():.4f}, b = {b.item():.4f}')\n",
        "    print(f' Wref = {Wref:.4f}, bref = {bref:.4f}')"
      ],
      "metadata": {
        "colab": {
          "base_uri": "https://localhost:8080/"
        },
        "id": "sRCUQkEsbvsK",
        "outputId": "9aa81e26-4cd2-4b4a-9688-a1827aec13ac"
      },
      "execution_count": 21,
      "outputs": [
        {
          "output_type": "stream",
          "name": "stdout",
          "text": [
            "Epoch 0001, Loss: 0.903017\n",
            " W = -0.2668, b = 0.3194\n",
            " Wref = 0.7000, bref = -1.0000\n",
            "Epoch 0051, Loss: 0.194615\n",
            " W = -0.4159, b = -0.2121\n",
            " Wref = 0.7000, bref = -1.0000\n",
            "Epoch 0101, Loss: 0.119273\n",
            " W = -0.4006, b = -0.3945\n",
            " Wref = 0.7000, bref = -1.0000\n",
            "Epoch 0151, Loss: 0.099011\n",
            " W = -0.3419, b = -0.4740\n",
            " Wref = 0.7000, bref = -1.0000\n",
            "Epoch 0201, Loss: 0.085256\n",
            " W = -0.2745, b = -0.5219\n",
            " Wref = 0.7000, bref = -1.0000\n",
            "Epoch 0251, Loss: 0.073692\n",
            " W = -0.2082, b = -0.5589\n",
            " Wref = 0.7000, bref = -1.0000\n",
            "Epoch 0301, Loss: 0.063733\n",
            " W = -0.1455, b = -0.5911\n",
            " Wref = 0.7000, bref = -1.0000\n",
            "Epoch 0351, Loss: 0.055136\n",
            " W = -0.0870, b = -0.6204\n",
            " Wref = 0.7000, bref = -1.0000\n",
            "Epoch 0401, Loss: 0.047713\n",
            " W = -0.0325, b = -0.6474\n",
            " Wref = 0.7000, bref = -1.0000\n",
            "Epoch 0451, Loss: 0.041304\n",
            " W = 0.0182, b = -0.6724\n",
            " Wref = 0.7000, bref = -1.0000\n",
            "Epoch 0501, Loss: 0.035770\n",
            " W = 0.0653, b = -0.6957\n",
            " Wref = 0.7000, bref = -1.0000\n",
            "Epoch 0551, Loss: 0.030992\n",
            " W = 0.1091, b = -0.7173\n",
            " Wref = 0.7000, bref = -1.0000\n",
            "Epoch 0601, Loss: 0.026866\n",
            " W = 0.1497, b = -0.7374\n",
            " Wref = 0.7000, bref = -1.0000\n",
            "Epoch 0651, Loss: 0.023303\n",
            " W = 0.1875, b = -0.7561\n",
            " Wref = 0.7000, bref = -1.0000\n",
            "Epoch 0701, Loss: 0.020227\n",
            " W = 0.2226, b = -0.7734\n",
            " Wref = 0.7000, bref = -1.0000\n",
            "Epoch 0751, Loss: 0.017571\n",
            " W = 0.2553, b = -0.7896\n",
            " Wref = 0.7000, bref = -1.0000\n",
            "Epoch 0801, Loss: 0.015278\n",
            " W = 0.2856, b = -0.8045\n",
            " Wref = 0.7000, bref = -1.0000\n",
            "Epoch 0851, Loss: 0.013297\n",
            " W = 0.3138, b = -0.8184\n",
            " Wref = 0.7000, bref = -1.0000\n",
            "Epoch 0901, Loss: 0.011588\n",
            " W = 0.3399, b = -0.8314\n",
            " Wref = 0.7000, bref = -1.0000\n",
            "Epoch 0951, Loss: 0.010111\n",
            " W = 0.3643, b = -0.8434\n",
            " Wref = 0.7000, bref = -1.0000\n",
            "Epoch 1001, Loss: 0.008836\n",
            " W = 0.3869, b = -0.8546\n",
            " Wref = 0.7000, bref = -1.0000\n",
            "Epoch 1051, Loss: 0.007736\n",
            " W = 0.4079, b = -0.8649\n",
            " Wref = 0.7000, bref = -1.0000\n",
            "Epoch 1101, Loss: 0.006785\n",
            " W = 0.4274, b = -0.8746\n",
            " Wref = 0.7000, bref = -1.0000\n",
            "Epoch 1151, Loss: 0.005965\n",
            " W = 0.4455, b = -0.8835\n",
            " Wref = 0.7000, bref = -1.0000\n",
            "Epoch 1201, Loss: 0.005256\n",
            " W = 0.4624, b = -0.8919\n",
            " Wref = 0.7000, bref = -1.0000\n",
            "Epoch 1251, Loss: 0.004644\n",
            " W = 0.4781, b = -0.8996\n",
            " Wref = 0.7000, bref = -1.0000\n",
            "Epoch 1301, Loss: 0.004116\n",
            " W = 0.4926, b = -0.9068\n",
            " Wref = 0.7000, bref = -1.0000\n",
            "Epoch 1351, Loss: 0.003660\n",
            " W = 0.5061, b = -0.9135\n",
            " Wref = 0.7000, bref = -1.0000\n",
            "Epoch 1401, Loss: 0.003266\n",
            " W = 0.5187, b = -0.9197\n",
            " Wref = 0.7000, bref = -1.0000\n",
            "Epoch 1451, Loss: 0.002926\n",
            " W = 0.5304, b = -0.9254\n",
            " Wref = 0.7000, bref = -1.0000\n",
            "Epoch 1501, Loss: 0.002632\n",
            " W = 0.5412, b = -0.9308\n",
            " Wref = 0.7000, bref = -1.0000\n",
            "Epoch 1551, Loss: 0.002379\n",
            " W = 0.5513, b = -0.9358\n",
            " Wref = 0.7000, bref = -1.0000\n",
            "Epoch 1601, Loss: 0.002160\n",
            " W = 0.5607, b = -0.9404\n",
            " Wref = 0.7000, bref = -1.0000\n",
            "Epoch 1651, Loss: 0.001971\n",
            " W = 0.5694, b = -0.9447\n",
            " Wref = 0.7000, bref = -1.0000\n",
            "Epoch 1701, Loss: 0.001808\n",
            " W = 0.5775, b = -0.9487\n",
            " Wref = 0.7000, bref = -1.0000\n",
            "Epoch 1751, Loss: 0.001667\n",
            " W = 0.5850, b = -0.9524\n",
            " Wref = 0.7000, bref = -1.0000\n",
            "Epoch 1801, Loss: 0.001545\n",
            " W = 0.5920, b = -0.9559\n",
            " Wref = 0.7000, bref = -1.0000\n",
            "Epoch 1851, Loss: 0.001440\n",
            " W = 0.5985, b = -0.9591\n",
            " Wref = 0.7000, bref = -1.0000\n",
            "Epoch 1901, Loss: 0.001349\n",
            " W = 0.6045, b = -0.9620\n",
            " Wref = 0.7000, bref = -1.0000\n",
            "Epoch 1951, Loss: 0.001271\n",
            " W = 0.6101, b = -0.9648\n",
            " Wref = 0.7000, bref = -1.0000\n"
          ]
        }
      ]
    },
    {
      "cell_type": "code",
      "source": [
        "# plot\n",
        "model.eval()\n",
        "with torch.no_grad():\n",
        "  predicted = model(x_train).numpy()\n",
        "\n",
        "plt.figure(2)\n",
        "plt.plot(train_X[0, :], ref_Y[0, :], 'ro', label = 'Original data')\n",
        "plt.plot(train_X[0, :], train_Y[0, :], 'b^', label = 'Training data')\n",
        "plt.plot(train_X[0, :], predicted.flatten(), 'k-', label='Fitted Line')\n",
        "plt.axis('equal')\n",
        "plt.legend()"
      ],
      "metadata": {
        "colab": {
          "base_uri": "https://localhost:8080/",
          "height": 448
        },
        "id": "lvdp82xgcYNM",
        "outputId": "2e40f52c-1fd1-4543-96eb-f9a379bbbe13"
      },
      "execution_count": 30,
      "outputs": [
        {
          "output_type": "execute_result",
          "data": {
            "text/plain": [
              "<matplotlib.legend.Legend at 0x7fa01c85e810>"
            ]
          },
          "metadata": {},
          "execution_count": 30
        },
        {
          "output_type": "display_data",
          "data": {
            "text/plain": [
              "<Figure size 640x480 with 1 Axes>"
            ],
            "image/png": "[encoded data removed]"
          },
          "metadata": {}
        }
      ]
    }
  ]
}
