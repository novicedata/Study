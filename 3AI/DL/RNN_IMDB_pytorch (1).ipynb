{
  "nbformat": 4,
  "nbformat_minor": 0,
  "metadata": {
    "colab": {
      "provenance": []
    },
    "kernelspec": {
      "name": "python3",
      "display_name": "Python 3"
    },
    "language_info": {
      "name": "python"
    }
  },
  "cells": [
    {
      "cell_type": "code",
      "execution_count": null,
      "metadata": {
        "id": "OG4E30Fk8KGq"
      },
      "outputs": [],
      "source": [
        "import torch\n",
        "import torch.nn as nn\n",
        "import torch.optim as optim\n",
        "from torch.utils.data import DataLoader, TensorDataset\n",
        "from keras.datasets import imdb\n",
        "from keras.preprocessing.sequence import pad_sequences\n",
        "import numpy as np"
      ]
    },
    {
      "cell_type": "code",
      "source": [
        "# 하이퍼파라미터 지정\n",
        "\n",
        "num_words = 10000 # imdb에서 볼 단어수\n",
        "max_len = 200 # 최대 길이 같게\n",
        "batch_size = 64\n",
        "embed_dim = 64\n",
        "hidden_dim = 32\n",
        "epochs = 5"
      ],
      "metadata": {
        "id": "A7hGp0YA8hRN"
      },
      "execution_count": null,
      "outputs": []
    },
    {
      "cell_type": "code",
      "source": [
        "(X_train, y_train), (X_test, y_test) = imdb.load_data(num_words = num_words)\n",
        "X_train = pad_sequences(X_train, maxlen = max_len)\n",
        "X_test = pad_sequences(X_test, maxlen = max_len)\n",
        "\n",
        "# Pytorch 텐서로 변환\n",
        "X_train = torch.tensor(X_train, dtype=torch.long)\n",
        "y_train = torch.tensor(y_train, dtype=torch.float32)\n",
        "X_test = torch.tensor(X_test, dtype=torch.long)\n",
        "y_test = torch.tensor(y_test, dtype=torch.float32)\n",
        "\n",
        "train_dataset = TensorDataset(X_train, y_train)\n",
        "test_dataset = TensorDataset(X_test, y_test)\n",
        "train_loader = DataLoader(train_dataset, batch_size=batch_size, shuffle=True)\n",
        "test_loader = DataLoader(test_dataset, batch_size=batch_size)"
      ],
      "metadata": {
        "id": "Kmy0nqQl8wZC"
      },
      "execution_count": null,
      "outputs": []
    },
    {
      "cell_type": "code",
      "source": [
        "class SimpleRNNModel(nn.Module):\n",
        "  def __init__(self):\n",
        "    super(SimpleRNNModel, self).__init__()\n",
        "    self.embedding = nn.Embedding(num_words, embed_dim)\n",
        "    self.rnn = nn.RNN(embed_dim, hidden_dim, batch_first=True)\n",
        "    self.fc = nn.Linear(hidden_dim, 1)\n",
        "    self.sigmoid = nn.Sigmoid()\n",
        "\n",
        "  def forward(self, x):\n",
        "    x = self.embedding(x)\n",
        "    out, _ = self.rnn(x)\n",
        "    out = out[:, -1, :] # [batch, 32]\n",
        "    out = self.fc(out)\n",
        "    return self.sigmoid(out).squeeze()"
      ],
      "metadata": {
        "id": "yJq6uJYZ-Ael"
      },
      "execution_count": null,
      "outputs": []
    },
    {
      "cell_type": "code",
      "source": [
        "device = torch.device('cuda' if torch.cuda.is_available() else 'cpu')\n",
        "model = SimpleRNNModel().to(device)\n",
        "criterion = nn.BCELoss()\n",
        "optimizer = optim.Adam(model.parameters())"
      ],
      "metadata": {
        "id": "fqS1C4aM-mnp"
      },
      "execution_count": null,
      "outputs": []
    },
    {
      "cell_type": "code",
      "source": [
        "for epoch in range(epochs):\n",
        "  model.train()\n",
        "  total_loss = 0\n",
        "  correct = 0\n",
        "  total = 9\n",
        "  for batch_x, batch_y in train_loader:\n",
        "    batch_x, batch_y = batch_x.to(device), batch_y.to(device)\n",
        "\n",
        "    optimizer.zero_grad()\n",
        "    output = model(batch_x)\n",
        "    loss = criterion(output,batch_y)\n",
        "    loss.backward()\n",
        "    optimizer.step()\n",
        "\n",
        "    total_loss += loss.item()\n",
        "    pred = (output> 0.5).float()\n",
        "    correct += (pred == batch_y).sum().item()\n",
        "    total += batch_y.size(0)\n",
        "\n",
        "  print(f'Epoch: {epoch+1}, Loss: {total_loss/len(train_loader):.4f}, Accuracy: {correct/total:.4f}')"
      ],
      "metadata": {
        "colab": {
          "base_uri": "https://localhost:8080/"
        },
        "id": "St4hiRHv_M_k",
        "outputId": "7e5715dc-db60-49d9-e8e4-f3ec45238636"
      },
      "execution_count": null,
      "outputs": [
        {
          "output_type": "stream",
          "name": "stdout",
          "text": [
            "Epoch: 1, Loss: 0.6781, Accuracy: 0.5542\n",
            "Epoch: 2, Loss: 0.6116, Accuracy: 0.6682\n",
            "Epoch: 3, Loss: 0.5417, Accuracy: 0.7349\n",
            "Epoch: 4, Loss: 0.5071, Accuracy: 0.7586\n",
            "Epoch: 5, Loss: 0.5931, Accuracy: 0.6828\n"
          ]
        }
      ]
    },
    {
      "cell_type": "code",
      "source": [
        "model.eval()\n",
        "correct = 0\n",
        "total = 0\n",
        "\n",
        "with torch.no_grad():\n",
        "  for batch_x, batch_y in test_loader:\n",
        "    batch_x, batch_y = batch_x.to(device), batch_y.to(device)\n",
        "    output = model(batch_x)\n",
        "    pred = (output > 0.5).float()\n",
        "    correct += (pred == batch_y).sum().item()\n",
        "    total += batch_y.size(0)\n",
        "\n",
        "print(f'Test Accuracy: {correct/total:.4f}')"
      ],
      "metadata": {
        "colab": {
          "base_uri": "https://localhost:8080/"
        },
        "id": "kleonHdqAigf",
        "outputId": "7d633429-befe-4bd7-e62e-22460ae397ba"
      },
      "execution_count": null,
      "outputs": [
        {
          "output_type": "stream",
          "name": "stdout",
          "text": [
            "Test Accuracy: 0.6920\n"
          ]
        }
      ]
    }
  ]
}
