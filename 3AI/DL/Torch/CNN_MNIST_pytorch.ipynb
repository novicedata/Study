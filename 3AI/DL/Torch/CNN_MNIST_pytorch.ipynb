{
  "nbformat": 4,
  "nbformat_minor": 0,
  "metadata": {
    "colab": {
      "provenance": []
    },
    "kernelspec": {
      "name": "python3",
      "display_name": "Python 3"
    },
    "language_info": {
      "name": "python"
    }
  },
  "cells": [
    {
      "cell_type": "code",
      "execution_count": null,
      "metadata": {
        "id": "Lrv_gcYuHSF0"
      },
      "outputs": [],
      "source": [
        "import torch\n",
        "import torch.nn as nn\n",
        "import torch.optim as optim\n",
        "from torchvision import datasets, transforms\n",
        "from torch.utils.data import DataLoader\n",
        "\n",
        "# 이미지 정규화 및 텐서 변환\n",
        "transform = transforms.Compose([\n",
        "    transforms.ToTensor(), # 0~255를 0-1로\n",
        "    transforms.Normalize((0.5,), (0.5,)) # 정규화 -> -1~+1\n",
        "])\n",
        "\n",
        "# 데이터셋 다운로드\n",
        "train_dataset = datasets.MNIST(root='./data',\n",
        "                               train = True, download=True, transform=transform)\n",
        "test_dataset = datasets.MNIST(root='./data',\n",
        "                               train = False, download=True, transform=transform)\n",
        "\n",
        "# 데이터로더\n",
        "train_loader = DataLoader(train_dataset, batch_size=64, shuffle=True)\n",
        "test_loader = DataLoader(test_dataset, batch_size=64, shuffle=True)"
      ]
    },
    {
      "cell_type": "code",
      "source": [
        "class CNN(nn.Module):\n",
        "  def __init__(self):\n",
        "    super(CNN, self).__init__()\n",
        "    self.conv_layer = nn.Sequential(\n",
        "        nn.Conv2d(1, 32, kernel_size = 3, padding = 1), # 28x28 -> 28x28\n",
        "        nn.ReLU(),\n",
        "        nn.MaxPool2d(2), #28x28 -> 14x14\n",
        "        nn.Conv2d(32, 64, kernel_size = 3, padding = 1), #14x14 -> 14x14\n",
        "        nn.ReLU(),\n",
        "        nn.MaxPool2d(2)\n",
        "    )\n",
        "    self.fc_layer = nn.Sequential(\n",
        "        nn.Flatten(),\n",
        "        nn.Linear(64 * 7 * 7, 64),\n",
        "        nn.ReLU(),\n",
        "        nn.Linear(64, 10)\n",
        "    )\n",
        "\n",
        "  def forward(self, x):\n",
        "    x = self.conv_layer(x)\n",
        "    x = self.fc_layer(x)\n",
        "    return x"
      ],
      "metadata": {
        "id": "GpTnaGoyx--w"
      },
      "execution_count": null,
      "outputs": []
    },
    {
      "cell_type": "code",
      "source": [
        "device = torch.device('cuda' if torch.cuda.is_available() else 'cpu')\n",
        "model = CNN().to(device)\n",
        "criterion = nn.CrossEntropyLoss()\n",
        "optimizer = optim.Adam(model.parameters(), lr=0.001)"
      ],
      "metadata": {
        "id": "z4CAOLWW1Tie"
      },
      "execution_count": null,
      "outputs": []
    },
    {
      "cell_type": "code",
      "source": [
        "from torchsummary import summary\n",
        "summary(model, (1, 28, 28))"
      ],
      "metadata": {
        "colab": {
          "base_uri": "https://localhost:8080/"
        },
        "id": "xIm2wTxT6Wbn",
        "outputId": "314e1386-1e89-4981-e7f0-843ffd980402"
      },
      "execution_count": null,
      "outputs": [
        {
          "output_type": "stream",
          "name": "stdout",
          "text": [
            "----------------------------------------------------------------\n",
            "        Layer (type)               Output Shape         Param #\n",
            "================================================================\n",
            "            Conv2d-1           [-1, 32, 28, 28]             320\n",
            "              ReLU-2           [-1, 32, 28, 28]               0\n",
            "         MaxPool2d-3           [-1, 32, 14, 14]               0\n",
            "            Conv2d-4           [-1, 64, 14, 14]          18,496\n",
            "              ReLU-5           [-1, 64, 14, 14]               0\n",
            "         MaxPool2d-6             [-1, 64, 7, 7]               0\n",
            "           Flatten-7                 [-1, 3136]               0\n",
            "            Linear-8                   [-1, 64]         200,768\n",
            "              ReLU-9                   [-1, 64]               0\n",
            "           Linear-10                   [-1, 10]             650\n",
            "================================================================\n",
            "Total params: 220,234\n",
            "Trainable params: 220,234\n",
            "Non-trainable params: 0\n",
            "----------------------------------------------------------------\n",
            "Input size (MB): 0.00\n",
            "Forward/backward pass size (MB): 0.67\n",
            "Params size (MB): 0.84\n",
            "Estimated Total Size (MB): 1.51\n",
            "----------------------------------------------------------------\n"
          ]
        }
      ]
    },
    {
      "cell_type": "code",
      "source": [
        "for epoch in range(5): # 64배치 5에포크 train 시행\n",
        "  model.train() # train mode 시행\n",
        "  running_loss = 0.0 # 현재 에포크에서 전체 손실 합계 변수 초기화\n",
        "  for images, labels in train_loader:\n",
        "    images, labels = images.to(device), labels.to(device) # 데이터를 학습 장치로 이동\n",
        "    outputs = model(images) # 결과 확인\n",
        "    loss = criterion(outputs, labels) # 손실 계산\n",
        "    optimizer.zero_grad() # gradient 초기화\n",
        "    loss.backward() # 역전파 시행. 손실 기준으로 각 파라미터에 대한 gradient 계산\n",
        "    optimizer.step()\n",
        "    running_loss += loss.item() # 현재 배치의 loss를 누적\n",
        "\n",
        "  print(f'Epoch {epoch +1}, Loss: {running_loss / len(train_loader):.4f}')\n"
      ],
      "metadata": {
        "colab": {
          "base_uri": "https://localhost:8080/"
        },
        "id": "0PWcaBFH03Sz",
        "outputId": "0b3d5aa7-2799-4775-bad5-8e6ecd92a554"
      },
      "execution_count": null,
      "outputs": [
        {
          "output_type": "stream",
          "name": "stdout",
          "text": [
            "Epoch 1, Loss: 0.0528\n",
            "Epoch 2, Loss: 0.0370\n",
            "Epoch 3, Loss: 0.0303\n",
            "Epoch 4, Loss: 0.0216\n",
            "Epoch 5, Loss: 0.0185\n"
          ]
        }
      ]
    },
    {
      "cell_type": "code",
      "source": [
        "model.eval()\n",
        "correct = 0; total = 0\n",
        "\n",
        "with torch.no_grad():\n",
        "  for images, labels in test_loader:\n",
        "    images, labels = images.to(device), labels.to(device)\n",
        "    outputs = model(images)\n",
        "    _, predicted = torch.max(outputs.data, 1) # 예측값의 클래스 추출\n",
        "\n",
        "    total += labels.size(0)\n",
        "    correct += (predicted == labels).sum().item()\n",
        "\n",
        "accuracy = 100 * correct / total\n",
        "print(f\"Test ACC: {accuracy:.2f}%\")"
      ],
      "metadata": {
        "colab": {
          "base_uri": "https://localhost:8080/"
        },
        "id": "auVVVhUa48-S",
        "outputId": "8d0bcb47-20ae-45a7-db4a-40691eeaf3ca"
      },
      "execution_count": null,
      "outputs": [
        {
          "output_type": "stream",
          "name": "stdout",
          "text": [
            "Test ACC: 99.00%\n"
          ]
        }
      ]
    }
  ]
}
